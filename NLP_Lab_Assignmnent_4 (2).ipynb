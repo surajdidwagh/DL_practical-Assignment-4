{
  "nbformat": 4,
  "nbformat_minor": 0,
  "metadata": {
    "colab": {
      "provenance": [],
      "gpuType": "T4"
    },
    "kernelspec": {
      "name": "python3",
      "display_name": "Python 3"
    },
    "language_info": {
      "name": "python"
    },
    "accelerator": "GPU"
  },
  "cells": [
    {
      "cell_type": "markdown",
      "source": [
        "# Google Colab Lab Assignment -NLP\n",
        "\n",
        "**Course Name:** Deep Learning\n",
        "\n",
        "**Lab Title:** NLP Techniques for Text Classification\n",
        "\n",
        "**Student Name:** Suraj Didwagh\n",
        "\n",
        "**Student ID:**  202201040126\n",
        "  \n",
        "**Date of Submission:** 01/04/2025\n",
        "\n",
        "\n",
        "\n",
        "**Objective**\n",
        "The objective of this assignment is to implement NLP preprocessing techniques and build a text classification model using machine learning techniques.\n",
        "\n",
        "\n"
      ],
      "metadata": {
        "id": "qfwaeuSgcupl"
      }
    },
    {
      "cell_type": "markdown",
      "source": [],
      "metadata": {
        "id": "GWJgeck2Sxg8"
      }
    },
    {
      "cell_type": "markdown",
      "source": [
        "**Learning Outcomes:**\n",
        "\n",
        "1. Understand and apply NLP preprocessing techniques such as tokenization, stopword removal, stemming, and lemmatization.\n",
        "\n",
        "2. Implement text vectorization techniques such as TF-IDF and CountVectorizer.\n",
        "\n",
        "3. Develop a text classification model using a machine learning algorithm.\n",
        "\n",
        "4. Evaluate the performance of the model using suitable metrics."
      ],
      "metadata": {
        "id": "nN1DLv3exqNw"
      }
    },
    {
      "cell_type": "markdown",
      "source": [
        "# **Assignment Instructions:**"
      ],
      "metadata": {
        "id": "jvYJRtGTI32Y"
      }
    },
    {
      "cell_type": "markdown",
      "source": [
        "**Part 1: NLP Preprocessing**\n",
        "\n",
        "**Dataset Selection:**\n",
        "\n",
        "Dataset Link :- https://www.kaggle.com/datasets/parulpandey/emotion-dataset\n",
        "\n",
        "Download the dataset and upload it to Google Colab.\n",
        "\n",
        "Load the dataset into a Pandas DataFrame and explore its structure (e.g., check missing values, data types, and label distribution).\n",
        "\n",
        "\n",
        "\n"
      ],
      "metadata": {
        "id": "hPA-RFjFc3hF"
      }
    },
    {
      "cell_type": "code",
      "source": [
        "import pandas as pd\n",
        "\n",
        "# Load datasets\n",
        "train_df = pd.read_csv('/content/training.csv')\n",
        "test_df = pd.read_csv('/content/test.csv')\n",
        "val_df = pd.read_csv('/content/validation.csv')\n",
        "\n",
        "# Function to explore dataset\n",
        "def explore_data(df, name):\n",
        "    print(f\"\\nExploring {name} Dataset\")\n",
        "    print(\"-\" * 50)\n",
        "\n",
        "    # Display basic info\n",
        "    print(\"Dataset Info:\")\n",
        "    print(df.info(), \"\\n\")\n",
        "\n",
        "    # Check missing values\n",
        "    print(\"Missing Values:\")\n",
        "    print(df.isnull().sum(), \"\\n\")\n",
        "\n",
        "    # Display first few rows\n",
        "    print(\"First 5 Rows:\")\n",
        "    print(df.head(), \"\\n\")\n",
        "\n",
        "    # Check label distribution if a label column exists\n",
        "    label_column = None  # Update this based on your dataset\n",
        "    for col in df.columns:\n",
        "        if df[col].nunique() <= 10:  # Heuristic check for categorical labels\n",
        "            label_column = col\n",
        "            break\n",
        "\n",
        "    if label_column:\n",
        "        print(f\"Label Distribution ({label_column}):\")\n",
        "        print(df[label_column].value_counts())\n",
        "\n",
        "# Explore each dataset\n",
        "explore_data(train_df, \"Training\")\n",
        "explore_data(test_df, \"Test\")\n",
        "explore_data(val_df, \"Validation\")\n"
      ],
      "metadata": {
        "id": "rQfj_h-Qc6zt",
        "colab": {
          "base_uri": "https://localhost:8080/"
        },
        "outputId": "b703a199-5ee0-4f0d-ad66-8571db9ab06b"
      },
      "execution_count": null,
      "outputs": [
        {
          "output_type": "stream",
          "name": "stdout",
          "text": [
            "\n",
            "Exploring Training Dataset\n",
            "--------------------------------------------------\n",
            "Dataset Info:\n",
            "<class 'pandas.core.frame.DataFrame'>\n",
            "RangeIndex: 16000 entries, 0 to 15999\n",
            "Data columns (total 2 columns):\n",
            " #   Column  Non-Null Count  Dtype \n",
            "---  ------  --------------  ----- \n",
            " 0   text    16000 non-null  object\n",
            " 1   label   16000 non-null  int64 \n",
            "dtypes: int64(1), object(1)\n",
            "memory usage: 250.1+ KB\n",
            "None \n",
            "\n",
            "Missing Values:\n",
            "text     0\n",
            "label    0\n",
            "dtype: int64 \n",
            "\n",
            "First 5 Rows:\n",
            "                                                text  label\n",
            "0                            i didnt feel humiliated      0\n",
            "1  i can go from feeling so hopeless to so damned...      0\n",
            "2   im grabbing a minute to post i feel greedy wrong      3\n",
            "3  i am ever feeling nostalgic about the fireplac...      2\n",
            "4                               i am feeling grouchy      3 \n",
            "\n",
            "Label Distribution (label):\n",
            "label\n",
            "1    5362\n",
            "0    4666\n",
            "3    2159\n",
            "4    1937\n",
            "2    1304\n",
            "5     572\n",
            "Name: count, dtype: int64\n",
            "\n",
            "Exploring Test Dataset\n",
            "--------------------------------------------------\n",
            "Dataset Info:\n",
            "<class 'pandas.core.frame.DataFrame'>\n",
            "RangeIndex: 2000 entries, 0 to 1999\n",
            "Data columns (total 2 columns):\n",
            " #   Column  Non-Null Count  Dtype \n",
            "---  ------  --------------  ----- \n",
            " 0   text    2000 non-null   object\n",
            " 1   label   2000 non-null   int64 \n",
            "dtypes: int64(1), object(1)\n",
            "memory usage: 31.4+ KB\n",
            "None \n",
            "\n",
            "Missing Values:\n",
            "text     0\n",
            "label    0\n",
            "dtype: int64 \n",
            "\n",
            "First 5 Rows:\n",
            "                                                text  label\n",
            "0  im feeling rather rotten so im not very ambiti...      0\n",
            "1          im updating my blog because i feel shitty      0\n",
            "2  i never make her separate from me because i do...      0\n",
            "3  i left with my bouquet of red and yellow tulip...      1\n",
            "4    i was feeling a little vain when i did this one      0 \n",
            "\n",
            "Label Distribution (label):\n",
            "label\n",
            "1    695\n",
            "0    581\n",
            "3    275\n",
            "4    224\n",
            "2    159\n",
            "5     66\n",
            "Name: count, dtype: int64\n",
            "\n",
            "Exploring Validation Dataset\n",
            "--------------------------------------------------\n",
            "Dataset Info:\n",
            "<class 'pandas.core.frame.DataFrame'>\n",
            "RangeIndex: 2000 entries, 0 to 1999\n",
            "Data columns (total 2 columns):\n",
            " #   Column  Non-Null Count  Dtype \n",
            "---  ------  --------------  ----- \n",
            " 0   text    2000 non-null   object\n",
            " 1   label   2000 non-null   int64 \n",
            "dtypes: int64(1), object(1)\n",
            "memory usage: 31.4+ KB\n",
            "None \n",
            "\n",
            "Missing Values:\n",
            "text     0\n",
            "label    0\n",
            "dtype: int64 \n",
            "\n",
            "First 5 Rows:\n",
            "                                                text  label\n",
            "0  im feeling quite sad and sorry for myself but ...      0\n",
            "1  i feel like i am still looking at a blank canv...      0\n",
            "2                     i feel like a faithful servant      2\n",
            "3                  i am just feeling cranky and blue      3\n",
            "4  i can have for a treat or if i am feeling festive      1 \n",
            "\n",
            "Label Distribution (label):\n",
            "label\n",
            "1    704\n",
            "0    550\n",
            "3    275\n",
            "4    212\n",
            "2    178\n",
            "5     81\n",
            "Name: count, dtype: int64\n"
          ]
        }
      ]
    },
    {
      "cell_type": "markdown",
      "source": [
        "**Text Preprocessing:**\n",
        "\n",
        "**Convert text to lowercase.**"
      ],
      "metadata": {
        "id": "318sRHb2yFhU"
      }
    },
    {
      "cell_type": "code",
      "source": [
        "# Assuming the text column is named 'text' (update if different)\n",
        "text_column = 'text'  # Change this if your text column has a different name\n",
        "\n",
        "# Convert text to lowercase\n",
        "def convert_to_lowercase(text):\n",
        "    if isinstance(text, str):  # Check if the value is a string\n",
        "        return text.lower()\n",
        "    return text  # Return as is if not a string\n",
        "\n",
        "# Apply to the datasets\n",
        "train_df[text_column] = train_df[text_column].astype(str).apply(convert_to_lowercase)\n",
        "test_df[text_column] = test_df[text_column].astype(str).apply(convert_to_lowercase)\n",
        "val_df[text_column] = val_df[text_column].astype(str).apply(convert_to_lowercase)\n",
        "\n",
        "# Display sample output\n",
        "print(train_df.head())\n"
      ],
      "metadata": {
        "colab": {
          "base_uri": "https://localhost:8080/"
        },
        "id": "XaJHPD28yESz",
        "outputId": "45ee0f32-2e59-4c24-c4b5-e2d987080444"
      },
      "execution_count": null,
      "outputs": [
        {
          "output_type": "stream",
          "name": "stdout",
          "text": [
            "                                                text  label\n",
            "0                            i didnt feel humiliated      0\n",
            "1  i can go from feeling so hopeless to so damned...      0\n",
            "2   im grabbing a minute to post i feel greedy wrong      3\n",
            "3  i am ever feeling nostalgic about the fireplac...      2\n",
            "4                               i am feeling grouchy      3\n"
          ]
        }
      ]
    },
    {
      "cell_type": "code",
      "source": [
        "pip install nltk\n"
      ],
      "metadata": {
        "colab": {
          "base_uri": "https://localhost:8080/"
        },
        "id": "bBggLcyl3C-5",
        "outputId": "47f59bd7-fd84-4dfc-f911-bd5a5241117a"
      },
      "execution_count": null,
      "outputs": [
        {
          "output_type": "stream",
          "name": "stdout",
          "text": [
            "Requirement already satisfied: nltk in /usr/local/lib/python3.11/dist-packages (3.9.1)\n",
            "Requirement already satisfied: click in /usr/local/lib/python3.11/dist-packages (from nltk) (8.1.8)\n",
            "Requirement already satisfied: joblib in /usr/local/lib/python3.11/dist-packages (from nltk) (1.4.2)\n",
            "Requirement already satisfied: regex>=2021.8.3 in /usr/local/lib/python3.11/dist-packages (from nltk) (2024.11.6)\n",
            "Requirement already satisfied: tqdm in /usr/local/lib/python3.11/dist-packages (from nltk) (4.67.1)\n"
          ]
        }
      ]
    },
    {
      "cell_type": "code",
      "source": [
        "import nltk\n",
        "nltk.download('punkt')\n",
        "nltk.download('punkt_tab')\n"
      ],
      "metadata": {
        "colab": {
          "base_uri": "https://localhost:8080/"
        },
        "id": "Uhtjf8NA3hDN",
        "outputId": "df7516d3-a6d8-4cbf-a82e-f21918458a7b"
      },
      "execution_count": null,
      "outputs": [
        {
          "output_type": "stream",
          "name": "stderr",
          "text": [
            "[nltk_data] Downloading package punkt to /root/nltk_data...\n",
            "[nltk_data]   Package punkt is already up-to-date!\n",
            "[nltk_data] Downloading package punkt_tab to /root/nltk_data...\n",
            "[nltk_data]   Unzipping tokenizers/punkt_tab.zip.\n"
          ]
        },
        {
          "output_type": "execute_result",
          "data": {
            "text/plain": [
              "True"
            ]
          },
          "metadata": {},
          "execution_count": 15
        }
      ]
    },
    {
      "cell_type": "markdown",
      "source": [
        "**Perform tokenization using NLTK or spaCy.**"
      ],
      "metadata": {
        "id": "ep50EQFmykZC"
      }
    },
    {
      "cell_type": "code",
      "source": [
        "import spacy\n",
        "\n",
        "# Load English NLP model\n",
        "nlp = spacy.load('en_core_web_sm')\n",
        "\n",
        "# Function for tokenization using spaCy\n",
        "def spacy_tokenize(text):\n",
        "    if isinstance(text, str):\n",
        "        return [token.text for token in nlp(text)]\n",
        "    return []\n",
        "\n",
        "# Apply tokenization to datasets\n",
        "train_df['tokens'] = train_df['text'].astype(str).apply(spacy_tokenize)\n",
        "test_df['tokens'] = test_df['text'].astype(str).apply(spacy_tokenize)\n",
        "val_df['tokens'] = val_df['text'].astype(str).apply(spacy_tokenize)\n",
        "\n",
        "# Display sample output\n",
        "print(train_df[['text', 'tokens']].head())\n"
      ],
      "metadata": {
        "colab": {
          "base_uri": "https://localhost:8080/"
        },
        "id": "U_HDrOk5ypBD",
        "outputId": "d25467ce-565f-40e5-b372-55cb8d263c8d"
      },
      "execution_count": null,
      "outputs": [
        {
          "output_type": "stream",
          "name": "stdout",
          "text": [
            "                                                text  \\\n",
            "0                            i didnt feel humiliated   \n",
            "1  i can go from feeling so hopeless to so damned...   \n",
            "2   im grabbing a minute to post i feel greedy wrong   \n",
            "3  i am ever feeling nostalgic about the fireplac...   \n",
            "4                               i am feeling grouchy   \n",
            "\n",
            "                                              tokens  \n",
            "0                     [i, did, nt, feel, humiliated]  \n",
            "1  [i, can, go, from, feeling, so, hopeless, to, ...  \n",
            "2  [i, m, grabbing, a, minute, to, post, i, feel,...  \n",
            "3  [i, am, ever, feeling, nostalgic, about, the, ...  \n",
            "4                          [i, am, feeling, grouchy]  \n"
          ]
        }
      ]
    },
    {
      "cell_type": "code",
      "source": [
        "import nltk\n",
        "\n",
        "# Download required resources\n",
        "nltk.download('punkt')\n",
        "nltk.download('stopwords')\n",
        "nltk.download('wordnet')\n",
        "\n",
        "from nltk.tokenize import word_tokenize\n",
        "from nltk.corpus import stopwords\n",
        "from nltk.stem import WordNetLemmatizer\n",
        "\n",
        "# Function for tokenization\n",
        "def tokenize_text(text):\n",
        "    try:\n",
        "        if isinstance(text, str):  # Ensure text is a string\n",
        "            # Use the standard word_tokenize function which uses the punkt tokenizer\n",
        "            tokens = word_tokenize(text.lower())\n",
        "            return tokens\n",
        "        return []  # Return empty list if not a string\n",
        "    except Exception as e:\n",
        "        print(f\"Error tokenizing text: {e}\")\n",
        "        return []\n",
        "\n",
        "# Make sure the dataframes exist before using them\n",
        "# If they aren't defined yet, uncomment and modify these lines\n",
        "# train_df = pd.read_csv('train_data.csv')  # replace with your actual data source\n",
        "# test_df = pd.read_csv('test_data.csv')    # replace with your actual data source\n",
        "# val_df = pd.read_csv('val_data.csv')      # replace with your actual data source\n",
        "\n",
        "# Apply tokenization to datasets with error handling\n",
        "train_df['tokens'] = train_df['text'].astype(str).apply(tokenize_text)\n",
        "test_df['tokens'] = test_df['text'].astype(str).apply(tokenize_text)\n",
        "val_df['tokens'] = val_df['text'].astype(str).apply(tokenize_text)\n",
        "\n",
        "# Display sample output\n",
        "print(\"Sample tokenization results:\")\n",
        "print(train_df[['text', 'tokens']].head())"
      ],
      "metadata": {
        "collapsed": true,
        "colab": {
          "base_uri": "https://localhost:8080/"
        },
        "id": "JpBwWmTa0xNP",
        "outputId": "55c87ec7-131a-4061-a648-6d5f8acde275"
      },
      "execution_count": null,
      "outputs": [
        {
          "output_type": "stream",
          "name": "stderr",
          "text": [
            "[nltk_data] Downloading package punkt to /root/nltk_data...\n",
            "[nltk_data]   Package punkt is already up-to-date!\n",
            "[nltk_data] Downloading package stopwords to /root/nltk_data...\n",
            "[nltk_data]   Package stopwords is already up-to-date!\n",
            "[nltk_data] Downloading package wordnet to /root/nltk_data...\n",
            "[nltk_data]   Package wordnet is already up-to-date!\n"
          ]
        },
        {
          "output_type": "stream",
          "name": "stdout",
          "text": [
            "Sample tokenization results:\n",
            "                                                text  \\\n",
            "0                            i didnt feel humiliated   \n",
            "1  i can go from feeling so hopeless to so damned...   \n",
            "2   im grabbing a minute to post i feel greedy wrong   \n",
            "3  i am ever feeling nostalgic about the fireplac...   \n",
            "4                               i am feeling grouchy   \n",
            "\n",
            "                                              tokens  \n",
            "0                       [i, didnt, feel, humiliated]  \n",
            "1  [i, can, go, from, feeling, so, hopeless, to, ...  \n",
            "2  [im, grabbing, a, minute, to, post, i, feel, g...  \n",
            "3  [i, am, ever, feeling, nostalgic, about, the, ...  \n",
            "4                          [i, am, feeling, grouchy]  \n"
          ]
        }
      ]
    },
    {
      "cell_type": "code",
      "source": [
        "import spacy\n",
        "\n",
        "# Load English NLP model\n",
        "nlp = spacy.load('en_core_web_sm')\n",
        "\n",
        "# Function to remove stopwords using spaCy\n",
        "def spacy_remove_stopwords(text):\n",
        "    if isinstance(text, str):\n",
        "        doc = nlp(text)  # Process text\n",
        "        filtered_tokens = [token.text for token in doc if not token.is_stop]  # Remove stopwords\n",
        "        return \" \".join(filtered_tokens)\n",
        "    return \"\"\n",
        "\n",
        "# Apply stopword removal to datasets\n",
        "train_df['text_no_stopwords'] = train_df['text'].astype(str).apply(spacy_remove_stopwords)\n",
        "test_df['text_no_stopwords'] = test_df['text'].astype(str).apply(spacy_remove_stopwords)\n",
        "val_df['text_no_stopwords'] = val_df['text'].astype(str).apply(spacy_remove_stopwords)\n",
        "\n",
        "# Display sample output\n",
        "print(train_df[['text', 'text_no_stopwords']].head())\n"
      ],
      "metadata": {
        "colab": {
          "base_uri": "https://localhost:8080/"
        },
        "id": "vADBjqnd1X-_",
        "outputId": "4d67a62d-ef71-48c6-92f3-89e46cad37a3"
      },
      "execution_count": null,
      "outputs": [
        {
          "output_type": "stream",
          "name": "stdout",
          "text": [
            "                                                text  \\\n",
            "0                            i didnt feel humiliated   \n",
            "1  i can go from feeling so hopeless to so damned...   \n",
            "2   im grabbing a minute to post i feel greedy wrong   \n",
            "3  i am ever feeling nostalgic about the fireplac...   \n",
            "4                               i am feeling grouchy   \n",
            "\n",
            "                             text_no_stopwords  \n",
            "0                           nt feel humiliated  \n",
            "1  feeling hopeless damned hopeful cares awake  \n",
            "2     m grabbing minute post feel greedy wrong  \n",
            "3    feeling nostalgic fireplace know property  \n",
            "4                              feeling grouchy  \n"
          ]
        }
      ]
    },
    {
      "cell_type": "markdown",
      "source": [
        "**Remove stopwords using NLTK or spaCy.**"
      ],
      "metadata": {
        "id": "IOK6Kxy66-KZ"
      }
    },
    {
      "cell_type": "code",
      "source": [
        "import nltk\n",
        "from nltk.corpus import stopwords\n",
        "from nltk.tokenize import word_tokenize\n",
        "\n",
        "# Download NLTK stopwords if not already downloaded\n",
        "nltk.download('stopwords')\n",
        "nltk.download('punkt')\n",
        "\n",
        "# Get the English stopwords list\n",
        "stop_words = set(stopwords.words('english'))\n",
        "\n",
        "# Function to remove stopwords\n",
        "def remove_stopwords(text):\n",
        "    if isinstance(text, str):\n",
        "        tokens = word_tokenize(text)  # Tokenization\n",
        "        filtered_tokens = [word for word in tokens if word.lower() not in stop_words]  # Remove stopwords\n",
        "        return \" \".join(filtered_tokens)\n",
        "    return \"\"\n",
        "\n",
        "# Apply stopword removal to datasets\n",
        "train_df['text_no_stopwords'] = train_df['text'].astype(str).apply(remove_stopwords)\n",
        "test_df['text_no_stopwords'] = test_df['text'].astype(str).apply(remove_stopwords)\n",
        "val_df['text_no_stopwords'] = val_df['text'].astype(str).apply(remove_stopwords)\n",
        "\n",
        "# Display sample output\n",
        "print(train_df[['text', 'text_no_stopwords']].head())\n"
      ],
      "metadata": {
        "colab": {
          "base_uri": "https://localhost:8080/"
        },
        "id": "lnzQC79Z2JT9",
        "outputId": "16386535-4a82-45cf-d31c-3a3234e29444"
      },
      "execution_count": null,
      "outputs": [
        {
          "output_type": "stream",
          "name": "stderr",
          "text": [
            "[nltk_data] Downloading package stopwords to /root/nltk_data...\n",
            "[nltk_data]   Package stopwords is already up-to-date!\n",
            "[nltk_data] Downloading package punkt to /root/nltk_data...\n",
            "[nltk_data]   Package punkt is already up-to-date!\n"
          ]
        },
        {
          "output_type": "stream",
          "name": "stdout",
          "text": [
            "                                                text  \\\n",
            "0                            i didnt feel humiliated   \n",
            "1  i can go from feeling so hopeless to so damned...   \n",
            "2   im grabbing a minute to post i feel greedy wrong   \n",
            "3  i am ever feeling nostalgic about the fireplac...   \n",
            "4                               i am feeling grouchy   \n",
            "\n",
            "                                   text_no_stopwords  \n",
            "0                              didnt feel humiliated  \n",
            "1  go feeling hopeless damned hopeful around some...  \n",
            "2          im grabbing minute post feel greedy wrong  \n",
            "3  ever feeling nostalgic fireplace know still pr...  \n",
            "4                                    feeling grouchy  \n"
          ]
        }
      ]
    },
    {
      "cell_type": "code",
      "source": [
        "import spacy\n",
        "\n",
        "# Load English NLP model\n",
        "nlp = spacy.load('en_core_web_sm')\n",
        "\n",
        "# Function to remove stopwords using spaCy\n",
        "def spacy_remove_stopwords(text):\n",
        "    if isinstance(text, str):\n",
        "        doc = nlp(text)  # Process text\n",
        "        filtered_tokens = [token.text for token in doc if not token.is_stop]  # Remove stopwords\n",
        "        return \" \".join(filtered_tokens)\n",
        "    return \"\"\n",
        "\n",
        "# Apply stopword removal to datasets\n",
        "train_df['text_no_stopwords'] = train_df['text'].astype(str).apply(spacy_remove_stopwords)\n",
        "test_df['text_no_stopwords'] = test_df['text'].astype(str).apply(spacy_remove_stopwords)\n",
        "val_df['text_no_stopwords'] = val_df['text'].astype(str).apply(spacy_remove_stopwords)\n",
        "\n",
        "# Display sample output\n",
        "print(train_df[['text', 'text_no_stopwords']].head())\n"
      ],
      "metadata": {
        "id": "rmajPQRS8uOc",
        "outputId": "96c8eb3e-e76a-4a18-c69c-ee51643ea7fd",
        "colab": {
          "base_uri": "https://localhost:8080/"
        }
      },
      "execution_count": null,
      "outputs": [
        {
          "output_type": "stream",
          "name": "stdout",
          "text": [
            "                                                text  \\\n",
            "0                            i didnt feel humiliated   \n",
            "1  i can go from feeling so hopeless to so damned...   \n",
            "2   im grabbing a minute to post i feel greedy wrong   \n",
            "3  i am ever feeling nostalgic about the fireplac...   \n",
            "4                               i am feeling grouchy   \n",
            "\n",
            "                             text_no_stopwords  \n",
            "0                           nt feel humiliated  \n",
            "1  feeling hopeless damned hopeful cares awake  \n",
            "2     m grabbing minute post feel greedy wrong  \n",
            "3    feeling nostalgic fireplace know property  \n",
            "4                              feeling grouchy  \n"
          ]
        }
      ]
    },
    {
      "cell_type": "markdown",
      "source": [
        "**Apply stemming using PorterStemmer or SnowballStemmer.**"
      ],
      "metadata": {
        "id": "L7f_UV1L7Hai"
      }
    },
    {
      "cell_type": "code",
      "source": [
        "from nltk.stem import PorterStemmer\n",
        "from nltk.tokenize import word_tokenize\n",
        "import nltk\n",
        "\n",
        "# Download tokenizer\n",
        "nltk.download('punkt')\n",
        "\n",
        "# Initialize PorterStemmer\n",
        "porter = PorterStemmer()\n",
        "\n",
        "# Function to apply Porter stemming\n",
        "def apply_porter_stemming(text):\n",
        "    if isinstance(text, str):\n",
        "        tokens = word_tokenize(text)  # Tokenization\n",
        "        stemmed_tokens = [porter.stem(word) for word in tokens]  # Apply stemming\n",
        "        return \" \".join(stemmed_tokens)\n",
        "    return \"\"\n",
        "\n",
        "# Apply Porter stemming to datasets\n",
        "train_df['Porter_Stemmed'] = train_df[text_column].astype(str).apply(apply_porter_stemming)\n",
        "test_df['Porter_Stemmed'] = test_df[text_column].astype(str).apply(apply_porter_stemming)\n",
        "val_df['Porter_Stemmed'] = val_df[text_column].astype(str).apply(apply_porter_stemming)\n",
        "\n",
        "# Display sample output\n",
        "print(train_df[[text_column, 'Porter_Stemmed']].head())\n"
      ],
      "metadata": {
        "colab": {
          "base_uri": "https://localhost:8080/"
        },
        "id": "1PjsWfdg2d_r",
        "outputId": "0f43b046-44f4-49e8-8aaf-f88d8c1be49f"
      },
      "execution_count": null,
      "outputs": [
        {
          "output_type": "stream",
          "name": "stderr",
          "text": [
            "[nltk_data] Downloading package punkt to /root/nltk_data...\n",
            "[nltk_data]   Package punkt is already up-to-date!\n"
          ]
        },
        {
          "output_type": "stream",
          "name": "stdout",
          "text": [
            "                                                text  \\\n",
            "0                            i didnt feel humiliated   \n",
            "1  i can go from feeling so hopeless to so damned...   \n",
            "2   im grabbing a minute to post i feel greedy wrong   \n",
            "3  i am ever feeling nostalgic about the fireplac...   \n",
            "4                               i am feeling grouchy   \n",
            "\n",
            "                                      Porter_Stemmed  \n",
            "0                                i didnt feel humili  \n",
            "1  i can go from feel so hopeless to so damn hope...  \n",
            "2        im grab a minut to post i feel greedi wrong  \n",
            "3  i am ever feel nostalg about the fireplac i wi...  \n",
            "4                                  i am feel grouchi  \n"
          ]
        }
      ]
    },
    {
      "cell_type": "code",
      "source": [
        "from nltk.stem import SnowballStemmer\n",
        "from nltk.tokenize import word_tokenize\n",
        "import nltk\n",
        "\n",
        "# Download tokenizer\n",
        "nltk.download('punkt')\n",
        "\n",
        "# Initialize SnowballStemmer\n",
        "snowball = SnowballStemmer('english')\n",
        "\n",
        "# Function to apply Snowball stemming\n",
        "def apply_snowball_stemming(text):\n",
        "    if isinstance(text, str):\n",
        "        tokens = word_tokenize(text)  # Tokenization\n",
        "        stemmed_tokens = [snowball.stem(word) for word in tokens]  # Apply stemming\n",
        "        return \" \".join(stemmed_tokens)\n",
        "    return \"\"\n",
        "\n",
        "# Apply Snowball stemming to datasets\n",
        "train_df['Snowball_Stemmed'] = train_df[text_column].astype(str).apply(apply_snowball_stemming)\n",
        "test_df['Snowball_Stemmed'] = test_df[text_column].astype(str).apply(apply_snowball_stemming)\n",
        "val_df['Snowball_Stemmed'] = val_df[text_column].astype(str).apply(apply_snowball_stemming)\n",
        "\n",
        "# Display sample output\n",
        "print(train_df[[text_column, 'Snowball_Stemmed']].head())\n"
      ],
      "metadata": {
        "colab": {
          "base_uri": "https://localhost:8080/"
        },
        "id": "juJ2h98u4GhN",
        "outputId": "fb2a3593-f64f-4aa4-a73f-599fd71b5f0a"
      },
      "execution_count": null,
      "outputs": [
        {
          "output_type": "stream",
          "name": "stderr",
          "text": [
            "[nltk_data] Downloading package punkt to /root/nltk_data...\n",
            "[nltk_data]   Package punkt is already up-to-date!\n"
          ]
        },
        {
          "output_type": "stream",
          "name": "stdout",
          "text": [
            "                                                text  \\\n",
            "0                            i didnt feel humiliated   \n",
            "1  i can go from feeling so hopeless to so damned...   \n",
            "2   im grabbing a minute to post i feel greedy wrong   \n",
            "3  i am ever feeling nostalgic about the fireplac...   \n",
            "4                               i am feeling grouchy   \n",
            "\n",
            "                                    Snowball_Stemmed  \n",
            "0                                i didnt feel humili  \n",
            "1  i can go from feel so hopeless to so damn hope...  \n",
            "2        im grab a minut to post i feel greedi wrong  \n",
            "3  i am ever feel nostalg about the fireplac i wi...  \n",
            "4                                  i am feel grouchi  \n"
          ]
        }
      ]
    },
    {
      "cell_type": "markdown",
      "source": [
        "**Apply lemmatization using WordNetLemmatizer.**"
      ],
      "metadata": {
        "id": "PNMZ_NtW7Odn"
      }
    },
    {
      "cell_type": "code",
      "source": [
        "from nltk.stem import WordNetLemmatizer\n",
        "from nltk.tokenize import word_tokenize\n",
        "import nltk\n",
        "\n",
        "# Download required NLTK data\n",
        "nltk.download('punkt')\n",
        "nltk.download('wordnet')\n",
        "\n",
        "# Initialize lemmatizer\n",
        "lemmatizer = WordNetLemmatizer()\n",
        "\n",
        "# Function to apply lemmatization\n",
        "def apply_lemmatization(text):\n",
        "    if isinstance(text, str):\n",
        "        tokens = word_tokenize(text)  # Tokenization\n",
        "        lemmatized_tokens = [lemmatizer.lemmatize(word) for word in tokens]  # Apply lemmatization\n",
        "        return \" \".join(lemmatized_tokens)\n",
        "    return \"\"\n",
        "\n",
        "# Apply lemmatization to datasets\n",
        "train_df['Lemmatized_Text'] = train_df[text_column].astype(str).apply(apply_lemmatization)\n",
        "test_df['Lemmatized_Text'] = test_df[text_column].astype(str).apply(apply_lemmatization)\n",
        "val_df['Lemmatized_Text'] = val_df[text_column].astype(str).apply(apply_lemmatization)\n",
        "\n",
        "# Display sample output\n",
        "print(train_df[[text_column, 'Lemmatized_Text']].head())\n"
      ],
      "metadata": {
        "colab": {
          "base_uri": "https://localhost:8080/"
        },
        "id": "HfIhoZa1541R",
        "outputId": "f4352ca3-350a-46be-e23e-29091f85defa"
      },
      "execution_count": null,
      "outputs": [
        {
          "output_type": "stream",
          "name": "stderr",
          "text": [
            "[nltk_data] Downloading package punkt to /root/nltk_data...\n",
            "[nltk_data]   Package punkt is already up-to-date!\n",
            "[nltk_data] Downloading package wordnet to /root/nltk_data...\n",
            "[nltk_data]   Package wordnet is already up-to-date!\n"
          ]
        },
        {
          "output_type": "stream",
          "name": "stdout",
          "text": [
            "                                                text  \\\n",
            "0                            i didnt feel humiliated   \n",
            "1  i can go from feeling so hopeless to so damned...   \n",
            "2   im grabbing a minute to post i feel greedy wrong   \n",
            "3  i am ever feeling nostalgic about the fireplac...   \n",
            "4                               i am feeling grouchy   \n",
            "\n",
            "                                     Lemmatized_Text  \n",
            "0                            i didnt feel humiliated  \n",
            "1  i can go from feeling so hopeless to so damned...  \n",
            "2   im grabbing a minute to post i feel greedy wrong  \n",
            "3  i am ever feeling nostalgic about the fireplac...  \n",
            "4                               i am feeling grouchy  \n"
          ]
        }
      ]
    },
    {
      "cell_type": "markdown",
      "source": [
        "**Vectorization Techniques:**\n",
        "\n",
        "**Convert text data into numerical format using TF-IDF and CountVectorizer.**"
      ],
      "metadata": {
        "id": "uOFrmUsw7V2X"
      }
    },
    {
      "cell_type": "code",
      "source": [
        "from sklearn.feature_extraction.text import TfidfVectorizer, CountVectorizer\n",
        "\n",
        "# Initialize vectorizers\n",
        "tfidf_vectorizer = TfidfVectorizer()\n",
        "count_vectorizer = CountVectorizer()\n",
        "\n",
        "# Convert text data to numerical format using TF-IDF\n",
        "train_tfidf = tfidf_vectorizer.fit_transform(train_df[text_column])\n",
        "test_tfidf = tfidf_vectorizer.transform(test_df[text_column])\n",
        "val_tfidf = tfidf_vectorizer.transform(val_df[text_column])\n",
        "\n",
        "# Convert text data to numerical format using CountVectorizer\n",
        "train_count = count_vectorizer.fit_transform(train_df[text_column])\n",
        "test_count = count_vectorizer.transform(test_df[text_column])\n",
        "val_count = count_vectorizer.transform(val_df[text_column])\n",
        "\n",
        "# Print shape of transformed data\n",
        "print(\"TF-IDF Shape (Train):\", train_tfidf.shape)\n",
        "print(\"TF-IDF Shape (Test):\", test_tfidf.shape)\n",
        "print(\"TF-IDF Shape (Validation):\", val_tfidf.shape)\n",
        "\n",
        "print(\"CountVectorizer Shape (Train):\", train_count.shape)\n",
        "print(\"CountVectorizer Shape (Test):\", test_count.shape)\n",
        "print(\"CountVectorizer Shape (Validation):\", val_count.shape)\n"
      ],
      "metadata": {
        "colab": {
          "base_uri": "https://localhost:8080/"
        },
        "id": "JuCuH9r86gv-",
        "outputId": "ff699398-b072-4da8-f378-24544f7f1f6d"
      },
      "execution_count": null,
      "outputs": [
        {
          "output_type": "stream",
          "name": "stdout",
          "text": [
            "TF-IDF Shape (Train): (16000, 15186)\n",
            "TF-IDF Shape (Test): (2000, 15186)\n",
            "TF-IDF Shape (Validation): (2000, 15186)\n",
            "CountVectorizer Shape (Train): (16000, 15186)\n",
            "CountVectorizer Shape (Test): (2000, 15186)\n",
            "CountVectorizer Shape (Validation): (2000, 15186)\n"
          ]
        }
      ]
    },
    {
      "cell_type": "markdown",
      "source": [
        "**Splitting the Data:**\n",
        "\n",
        "Divide the dataset into training and testing sets (e.g., 80% training, 20% testing).\n",
        "\n"
      ],
      "metadata": {
        "id": "CuEXacYmc8lm"
      }
    },
    {
      "cell_type": "markdown",
      "source": [
        "Dataset is already in the format of training testing and validation\n",
        "- **Training Set**: 16,000 samples (**80%**)  \n",
        "- **Testing Set**: 2,000 samples (**10%**)  \n",
        "- **Validation Set**: 2,000 samples (**10%**)  \n",
        "\n",
        "### Key Observations:  \n",
        "1. The training set has the correct **80%** proportion.  \n",
        "2. The remaining **20%** is split into **10% testing** and **10% validation** instead of a full 20% testing set.  \n",
        "3. If you need a strict **80% training and 20% testing** split, the validation set should be merged with the test set.  \n",
        "\n",
        "### Next Steps:  \n",
        "- **Keep the current split** if you want a separate validation set for model tuning.  \n",
        "- **Merge validation into the test set** if you want a strict **80%-20%** split.  \n"
      ],
      "metadata": {
        "id": "WVTPRjgT-KYg"
      }
    },
    {
      "cell_type": "markdown",
      "source": [
        "**Building the Classification Model:**\n",
        "\n",
        "Train a text classification model using Logistic Regression, Naïve Bayes, or any other suitable algorithm.\n",
        "\n",
        "Implement the model using scikit-learn."
      ],
      "metadata": {
        "id": "Y3JQdWJF-v2j"
      }
    },
    {
      "cell_type": "code",
      "source": [
        "import pandas as pd\n",
        "import matplotlib.pyplot as plt\n",
        "from sklearn.feature_extraction.text import TfidfVectorizer\n",
        "from sklearn.linear_model import LogisticRegression\n",
        "from sklearn.naive_bayes import MultinomialNB\n",
        "from sklearn.metrics import accuracy_score, classification_report\n",
        "\n",
        "# Load the dataset\n",
        "train_df = pd.read_csv(\"training.csv\")\n",
        "test_df = pd.read_csv(\"test.csv\")\n",
        "\n",
        "# Assuming the dataset has 'text' and 'label' columns\n",
        "X_train, y_train = train_df['text'], train_df['label']\n",
        "X_test, y_test = test_df['text'], test_df['label']\n",
        "\n",
        "# Text vectorization using TF-IDF\n",
        "vectorizer = TfidfVectorizer(stop_words='english', max_features=5000)\n",
        "X_train_tfidf = vectorizer.fit_transform(X_train)\n",
        "X_test_tfidf = vectorizer.transform(X_test)\n",
        "\n",
        "# Train Logistic Regression model\n",
        "log_reg = LogisticRegression(max_iter=1000)\n",
        "log_reg.fit(X_train_tfidf, y_train)\n",
        "log_reg_pred = log_reg.predict(X_test_tfidf)\n",
        "\n",
        "# Train Naïve Bayes model\n",
        "nb_model = MultinomialNB()\n",
        "nb_model.fit(X_train_tfidf, y_train)\n",
        "nb_pred = nb_model.predict(X_test_tfidf)\n",
        "\n",
        "# Compute accuracy scores\n",
        "log_reg_acc = accuracy_score(y_test, log_reg_pred)\n",
        "nb_acc = accuracy_score(y_test, nb_pred)\n",
        "\n",
        "# Print classification reports\n",
        "print(\"\\nClassification Report - Logistic Regression:\\n\", classification_report(y_test, log_reg_pred))\n",
        "print(\"\\nClassification Report - Naïve Bayes:\\n\", classification_report(y_test, nb_pred))\n",
        "\n",
        "# Plot accuracy comparison\n",
        "plt.figure(figsize=(6, 4))\n",
        "plt.bar([\"Logistic Regression\", \"Naïve Bayes\"], [log_reg_acc, nb_acc], color=['blue', 'green'])\n",
        "plt.ylabel(\"Accuracy Score\")\n",
        "plt.title(\"Model Accuracy Comparison\")\n",
        "plt.ylim(0, 1)  # Accuracy ranges from 0 to 1\n",
        "plt.show()\n"
      ],
      "metadata": {
        "id": "-b2Z6SaydAfQ",
        "colab": {
          "base_uri": "https://localhost:8080/",
          "height": 912
        },
        "outputId": "8eba0551-c6dc-424a-ac1e-facd8a1a6ba0"
      },
      "execution_count": null,
      "outputs": [
        {
          "output_type": "stream",
          "name": "stdout",
          "text": [
            "\n",
            "Classification Report - Logistic Regression:\n",
            "               precision    recall  f1-score   support\n",
            "\n",
            "           0       0.91      0.92      0.91       581\n",
            "           1       0.85      0.95      0.90       695\n",
            "           2       0.80      0.65      0.72       159\n",
            "           3       0.89      0.83      0.86       275\n",
            "           4       0.87      0.82      0.84       224\n",
            "           5       0.89      0.50      0.64        66\n",
            "\n",
            "    accuracy                           0.87      2000\n",
            "   macro avg       0.87      0.78      0.81      2000\n",
            "weighted avg       0.87      0.87      0.87      2000\n",
            "\n",
            "\n",
            "Classification Report - Naïve Bayes:\n",
            "               precision    recall  f1-score   support\n",
            "\n",
            "           0       0.74      0.93      0.83       581\n",
            "           1       0.72      0.98      0.83       695\n",
            "           2       0.97      0.25      0.39       159\n",
            "           3       0.96      0.56      0.71       275\n",
            "           4       0.89      0.52      0.66       224\n",
            "           5       1.00      0.05      0.09        66\n",
            "\n",
            "    accuracy                           0.77      2000\n",
            "   macro avg       0.88      0.55      0.58      2000\n",
            "weighted avg       0.81      0.77      0.73      2000\n",
            "\n"
          ]
        },
        {
          "output_type": "display_data",
          "data": {
            "text/plain": [
              "<Figure size 600x400 with 1 Axes>"
            ],
            "image/png": "[encoded data removed]"
          },
          "metadata": {}
        }
      ]
    },
    {
      "cell_type": "markdown",
      "source": [
        "**Model Evaluation:**\n",
        "\n",
        "Evaluate the model using accuracy, precision, recall, and F1-score.\n",
        "\n",
        "Use a confusion matrix to visualize the results."
      ],
      "metadata": {
        "id": "a7AVFTQP_yT7"
      }
    },
    {
      "cell_type": "code",
      "source": [
        "import pandas as pd\n",
        "import matplotlib.pyplot as plt\n",
        "import seaborn as sns\n",
        "from sklearn.feature_extraction.text import TfidfVectorizer\n",
        "from sklearn.linear_model import LogisticRegression\n",
        "from sklearn.naive_bayes import MultinomialNB\n",
        "from sklearn.metrics import accuracy_score, classification_report, confusion_matrix\n",
        "\n",
        "# Load the dataset\n",
        "train_df = pd.read_csv(\"training.csv\")\n",
        "test_df = pd.read_csv(\"test.csv\")\n",
        "\n",
        "# Assuming the dataset has 'text' and 'label' columns\n",
        "X_train, y_train = train_df['text'], train_df['label']\n",
        "X_test, y_test = test_df['text'], test_df['label']\n",
        "\n",
        "# Text vectorization using TF-IDF\n",
        "vectorizer = TfidfVectorizer(stop_words='english', max_features=5000)\n",
        "X_train_tfidf = vectorizer.fit_transform(X_train)\n",
        "X_test_tfidf = vectorizer.transform(X_test)\n",
        "\n",
        "# Train Logistic Regression model\n",
        "log_reg = LogisticRegression(max_iter=1000)\n",
        "log_reg.fit(X_train_tfidf, y_train)\n",
        "log_reg_pred = log_reg.predict(X_test_tfidf)\n",
        "\n",
        "# Train Naïve Bayes model\n",
        "nb_model = MultinomialNB()\n",
        "nb_model.fit(X_train_tfidf, y_train)\n",
        "nb_pred = nb_model.predict(X_test_tfidf)\n",
        "\n",
        "# Compute evaluation metrics\n",
        "log_reg_report = classification_report(y_test, log_reg_pred, output_dict=True)\n",
        "nb_report = classification_report(y_test, nb_pred, output_dict=True)\n",
        "\n",
        "# Print evaluation metrics\n",
        "print(\"Logistic Regression Metrics:\\n\", classification_report(y_test, log_reg_pred))\n",
        "print(\"Naïve Bayes Metrics:\\n\", classification_report(y_test, nb_pred))\n",
        "\n",
        "# Confusion Matrices\n",
        "log_reg_cm = confusion_matrix(y_test, log_reg_pred)\n",
        "nb_cm = confusion_matrix(y_test, nb_pred)\n",
        "\n",
        "# Plot confusion matrices\n",
        "fig, axes = plt.subplots(1, 2, figsize=(12, 5))\n",
        "\n",
        "sns.heatmap(log_reg_cm, annot=True, fmt=\"d\", cmap=\"Blues\", ax=axes[0])\n",
        "axes[0].set_title(\"Logistic Regression - Confusion Matrix\")\n",
        "axes[0].set_xlabel(\"Predicted Label\")\n",
        "axes[0].set_ylabel(\"True Label\")\n",
        "\n",
        "sns.heatmap(nb_cm, annot=True, fmt=\"d\", cmap=\"Greens\", ax=axes[1])\n",
        "axes[1].set_title(\"Naïve Bayes - Confusion Matrix\")\n",
        "axes[1].set_xlabel(\"Predicted Label\")\n",
        "axes[1].set_ylabel(\"True Label\")\n",
        "\n",
        "plt.show()\n"
      ],
      "metadata": {
        "id": "qRAdyLB_AAhS",
        "outputId": "5b66fd7c-5c3c-4406-b10b-5a2482046336",
        "colab": {
          "base_uri": "https://localhost:8080/",
          "height": 973
        }
      },
      "execution_count": null,
      "outputs": [
        {
          "output_type": "stream",
          "name": "stdout",
          "text": [
            "Logistic Regression Metrics:\n",
            "               precision    recall  f1-score   support\n",
            "\n",
            "           0       0.91      0.92      0.91       581\n",
            "           1       0.85      0.95      0.90       695\n",
            "           2       0.80      0.65      0.72       159\n",
            "           3       0.89      0.83      0.86       275\n",
            "           4       0.87      0.82      0.84       224\n",
            "           5       0.89      0.50      0.64        66\n",
            "\n",
            "    accuracy                           0.87      2000\n",
            "   macro avg       0.87      0.78      0.81      2000\n",
            "weighted avg       0.87      0.87      0.87      2000\n",
            "\n",
            "Naïve Bayes Metrics:\n",
            "               precision    recall  f1-score   support\n",
            "\n",
            "           0       0.74      0.93      0.83       581\n",
            "           1       0.72      0.98      0.83       695\n",
            "           2       0.97      0.25      0.39       159\n",
            "           3       0.96      0.56      0.71       275\n",
            "           4       0.89      0.52      0.66       224\n",
            "           5       1.00      0.05      0.09        66\n",
            "\n",
            "    accuracy                           0.77      2000\n",
            "   macro avg       0.88      0.55      0.58      2000\n",
            "weighted avg       0.81      0.77      0.73      2000\n",
            "\n"
          ]
        },
        {
          "output_type": "display_data",
          "data": {
            "text/plain": [
              "<Figure size 1200x500 with 4 Axes>"
            ],
            "image/png": "[encoded data removed]"
          },
          "metadata": {}
        }
      ]
    },
    {
      "cell_type": "markdown",
      "source": [
        "**Submission Guidelines:**\n",
        "\n",
        "**Google Colab Notebook Submission:**\n",
        "\n",
        "Save your notebook as NLP_Text_Classification_YourName.ipynb.\n",
        "\n",
        "Ensure all code cells are executed, and the output is visible.\n",
        "\n",
        "Include proper documentation and comments explaining each step.\n",
        "\n",
        "**Report Submission (Optional):**\n",
        "\n",
        "Prepare a short report (2-3 pages) summarizing your approach, findings, and model performance.\n",
        "\n",
        "Upload the report along with the Colab Notebook.\n",
        "\n"
      ],
      "metadata": {
        "id": "TDlDzi_jJvYj"
      }
    },
    {
      "cell_type": "markdown",
      "source": [
        "**Grading Criteria:**\n",
        "\n",
        "Correct implementation of NLP preprocessing (30%)\n",
        "\n",
        "Effective use of vectorization techniques (20%)\n",
        "\n",
        "Model accuracy and performance evaluation (30%)\n",
        "\n",
        "Code clarity, documentation, and presentation (20%)"
      ],
      "metadata": {
        "id": "4xnsvv56Nsth"
      }
    },
    {
      "cell_type": "markdown",
      "source": [
        "**Declaration**\n",
        "\n",
        "I, Suraj Didwagh, confirm that the work submitted in this assignment is my own and has been completed following academic integrity guidelines. The code is uploaded on my GitHub repository account, and the repository link is provided below:\n",
        "\n",
        "GitHub Repository Link: https://github.com/surajdidwagh/DL_practical-Assignment-4.git\n",
        "\n",
        "Signature: Suraj Didwagh"
      ],
      "metadata": {
        "id": "cox9wwws8QoT"
      }
    },
    {
      "cell_type": "code",
      "source": [],
      "metadata": {
        "id": "MVqv0vyiTh5a"
      },
      "execution_count": null,
      "outputs": []
    },
    {
      "cell_type": "markdown",
      "source": [
        "**Submission Checklist**\n",
        "\n",
        "✔ Ultralitycs Platform Documentsation Like hel file for Given Task\n",
        "\n",
        "✔ Code file (Python Notebook or Script)\n",
        "\n",
        "✔ Dataset or link to the dataset\n",
        "\n",
        "✔ Visualizations (if applicable)\n",
        "\n",
        "✔ Screenshots of model performance metrics\n",
        "\n",
        "✔ Readme File\n",
        "\n",
        "✔ Evaluation Metrics Details and discussion"
      ],
      "metadata": {
        "id": "xXk9pnhy8S2M"
      }
    }
  ]
}